{
 "cells": [
  {
   "cell_type": "code",
   "execution_count": 1,
   "metadata": {},
   "outputs": [],
   "source": [
    "import cv2\n",
    "import os\n"
   ]
  },
  {
   "cell_type": "code",
   "execution_count": 2,
   "metadata": {},
   "outputs": [],
   "source": [
    "os.environ['KMP_DUPLICATE_LIB_OK']='True'\n",
    "import easyocr"
   ]
  },
  {
   "cell_type": "code",
   "execution_count": 3,
   "metadata": {},
   "outputs": [],
   "source": [
    "def preprocess_image(image_path):   \n",
    "    image = cv2.imread(image_path)\n",
    "    gray = cv2.cvtColor(image, cv2.COLOR_BGR2GRAY)\n",
    "    binary = cv2.adaptiveThreshold(gray, 255, cv2.ADAPTIVE_THRESH_GAUSSIAN_C, cv2.THRESH_BINARY_INV, 11, 2)\n",
    "\n",
    "    \n",
    "    return binary"
   ]
  },
  {
   "cell_type": "code",
   "execution_count": 4,
   "metadata": {},
   "outputs": [],
   "source": [
    "def yolo_to_pixel(image, box):\n",
    "    image_height, image_width = image.shape[:2]\n",
    "    x_center, y_center, width, height = box\n",
    "    x_min = int((x_center - width / 2) * image_width)\n",
    "    y_min = int((y_center - height / 2) * image_height)\n",
    "    x_max = int((x_center + width / 2) * image_width)\n",
    "    y_max = int((y_center + height / 2) * image_height)\n",
    "    return (x_min, y_min, x_max, y_max)"
   ]
  },
  {
   "cell_type": "code",
   "execution_count": 5,
   "metadata": {},
   "outputs": [],
   "source": [
    "def crop_boxes(image, boxes, output_dir):\n",
    "    cropped_images = []\n",
    "    for i, box in enumerate(boxes):\n",
    "        x_min, y_min, x_max, y_max = box\n",
    "        cropped_image = image[y_min:y_max, x_min:x_max]\n",
    "        output_path = os.path.join(output_dir, f\"cropped_{i}.jpg\")\n",
    "        cv2.imwrite(output_path, cropped_image)\n",
    "        cropped_images.append(cropped_image)\n",
    "    return cropped_images"
   ]
  },
  {
   "cell_type": "code",
   "execution_count": 6,
   "metadata": {},
   "outputs": [],
   "source": [
    "def perform_ocr(images):\n",
    "    reader = easyocr.Reader(['fr'], gpu=False)  \n",
    "    ocr_results = []\n",
    "    for img in images:\n",
    "        result = reader.readtext(img)\n",
    "        ocr_results.append(result)\n",
    "    return ocr_results"
   ]
  },
  {
   "cell_type": "code",
   "execution_count": 7,
   "metadata": {},
   "outputs": [],
   "source": [
    "yolo_boxes = [\n",
    "    (0.177232, 0.327731, 0.331250, 0.053221),\n",
    "    (0.212500, 0.454482, 0.410714, 0.057423),\n",
    "    (0.319643, 0.528711, 0.173214, 0.054622),\n",
    "    (0.215625, 0.655462, 0.377679, 0.058824),\n",
    "    (0.821429, 0.803221, 0.183929, 0.057423)\n",
    "]\n",
    "\n",
    "image_path = r'C:\\Users\\pc\\Desktop\\lp BigData\\s6\\moroccan_idCard_scanner\\ids\\old_card\\cni-recto.jpg'\n",
    "image = cv2.imread(image_path)\n",
    "\n",
    "\n",
    "pixel_boxes = [yolo_to_pixel(image, box) for box in yolo_boxes]\n",
    "\n",
    "dir = r\"C:\\Users\\pc\\Desktop\\lp BigData\\s6\\moroccan_idCard_scanner\\ids\\cropped\"\n",
    "\n",
    "cropped_images = crop_boxes(image, pixel_boxes, dir)"
   ]
  },
  {
   "cell_type": "code",
   "execution_count": 11,
   "metadata": {},
   "outputs": [
    {
     "name": "stderr",
     "output_type": "stream",
     "text": [
      "Using CPU. Note: This module is much faster with a GPU.\n"
     ]
    }
   ],
   "source": [
    "res = perform_ocr(cropped_images)"
   ]
  },
  {
   "cell_type": "code",
   "execution_count": 23,
   "metadata": {},
   "outputs": [],
   "source": [
    "from datetime import datetime\n",
    "\n",
    "def transform_date(input_date):\n",
    "    input_date = input_date.replace(',', '.')\n",
    "    \n",
    "    try:\n",
    "        date_obj = datetime.strptime(input_date, '%d.%m.%Y')\n",
    "    except ValueError:\n",
    "        try:\n",
    "            date_obj = datetime.strptime(input_date, '%d,%m,%Y')\n",
    "        except ValueError:\n",
    "            return \"Invalid date format\"\n",
    "    \n",
    "    formatted_date = date_obj.strftime('%d-%m-%Y')\n",
    "    \n",
    "    return formatted_date"
   ]
  },
  {
   "cell_type": "code",
   "execution_count": 25,
   "metadata": {},
   "outputs": [
    {
     "name": "stdout",
     "output_type": "stream",
     "text": [
      "{'firstName': 'OUSSAMA', 'secondName': 'NAJEM', 'DOB': '17-11-2003', 'COB': 'Q359550'}\n"
     ]
    }
   ],
   "source": [
    "data_dict = {}\n",
    "\n",
    "data_dict['firstName'] = res[0][0][1] \n",
    "data_dict['secondName'] = res[1][0][1] \n",
    "data_dict['DOB'] = res[2][0][1] \n",
    "data_dict['COB'] = res[4][0][1] \n",
    "\n",
    "data_dict['DOB'] = transform_date(data_dict['DOB'])\n",
    "\n",
    "print(data_dict)"
   ]
  },
  {
   "cell_type": "code",
   "execution_count": null,
   "metadata": {},
   "outputs": [],
   "source": []
  }
 ],
 "metadata": {
  "kernelspec": {
   "display_name": "base",
   "language": "python",
   "name": "python3"
  },
  "language_info": {
   "codemirror_mode": {
    "name": "ipython",
    "version": 3
   },
   "file_extension": ".py",
   "mimetype": "text/x-python",
   "name": "python",
   "nbconvert_exporter": "python",
   "pygments_lexer": "ipython3",
   "version": "3.11.7"
  }
 },
 "nbformat": 4,
 "nbformat_minor": 2
}
